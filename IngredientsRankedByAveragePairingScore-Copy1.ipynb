{
 "cells": [
  {
   "cell_type": "markdown",
   "metadata": {},
   "source": [
    "# Ingredients Ranked By Average Pairing Rank (r = 2)"
   ]
  },
  {
   "cell_type": "code",
   "execution_count": null,
   "metadata": {
    "collapsed": false
   },
   "outputs": [
    {
     "name": "stdout",
     "output_type": "stream",
     "text": [
      "[('yuzu juice', 0.136365411491179), ('celery microgreens', 0.13636541149117898), ('gluten-free pretzel', 0.06044481854747594)]"
     ]
    }
   ],
   "source": [
    "from pymongo import MongoClient\n",
    "import sys\n",
    "\n",
    "client = MongoClient()\n",
    "db = client['yummly']\n",
    "combo_coll = db['combinationsTop50k']\n",
    "\n",
    "ranked = []\n",
    "\n",
    "cursor = combo_coll.find({\"r\": 1}, no_cursor_timeout=True)\n",
    "for record in cursor:\n",
    "    ingredient = record['_id']\n",
    "    pipeline = [\n",
    "        {\n",
    "            \"$match\": {\n",
    "                \"r\": 2,\n",
    "                \"ingredients\": {\n",
    "                    \"$in\": [ingredient]\n",
    "                }\n",
    "            }\n",
    "        },\n",
    "        {\n",
    "            \"$group\": {\n",
    "                \"_id\": None,\n",
    "                \"avg_score\": {\n",
    "                    \"$avg\": \"$score\"\n",
    "                }\n",
    "            }\n",
    "        }\n",
    "    ]\n",
    "    avg = combo_coll.aggregate(pipeline).next()['avg_score']\n",
    "    ranked.append((ingredient, avg))\n",
    "    ranked = sorted(ranked, key = lambda ingredient: ingredient[1], reverse=True)\n",
    "    sys.stdout.write(\"\\r{message}\".format(message=ranked[:3]))\n",
    "    sys.stdout.flush()\n",
    "    \n",
    "cursor.close()\n",
    "\n",
    "ranked = sorted(ranked, key = lambda ingredient: ingredient[1])\n",
    "for item in ranked:\n",
    "    print(item)"
   ]
  }
 ],
 "metadata": {
  "anaconda-cloud": {},
  "kernelspec": {
   "display_name": "Python [conda env:mrspice-plot]",
   "language": "python",
   "name": "conda-env-mrspice-plot-py"
  },
  "language_info": {
   "codemirror_mode": {
    "name": "ipython",
    "version": 3
   },
   "file_extension": ".py",
   "mimetype": "text/x-python",
   "name": "python",
   "nbconvert_exporter": "python",
   "pygments_lexer": "ipython3",
   "version": "3.5.2"
  }
 },
 "nbformat": 4,
 "nbformat_minor": 1
}
